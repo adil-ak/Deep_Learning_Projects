{
  "nbformat": 4,
  "nbformat_minor": 0,
  "metadata": {
    "colab": {
      "provenance": [],
      "mount_file_id": "1LF0CoDucjWjktY6nus8f9EhxO7Jda5-M",
      "authorship_tag": "ABX9TyP0GMSe6oO0qPVIbNrmKSaL",
      "include_colab_link": true
    },
    "kernelspec": {
      "name": "python3",
      "display_name": "Python 3"
    },
    "language_info": {
      "name": "python"
    }
  },
  "cells": [
    {
      "cell_type": "markdown",
      "metadata": {
        "id": "view-in-github",
        "colab_type": "text"
      },
      "source": [
        "<a href=\"https://colab.research.google.com/github/adil-ak/Deep_Learning_Projects/blob/main/Animal_Bird_CNN.ipynb\" target=\"_parent\"><img src=\"https://colab.research.google.com/assets/colab-badge.svg\" alt=\"Open In Colab\"/></a>"
      ]
    },
    {
      "cell_type": "code",
      "execution_count": 56,
      "metadata": {
        "id": "kwyhBeHvb-F2"
      },
      "outputs": [],
      "source": [
        "import os\n",
        "df=os.listdir('/content/drive/MyDrive/Animal & Bird Dataset/Animal & Bird Dataset')"
      ]
    },
    {
      "cell_type": "code",
      "source": [
        "img_path=[]\n",
        "labels=[]\n",
        "\n",
        "for category in df:\n",
        "  folder_path=os.path.join('/content/drive/MyDrive/Animal & Bird Dataset/Animal & Bird Dataset',category)\n",
        "  for file in os.listdir(folder_path):\n",
        "    file_path=os.path.join(folder_path,file)\n",
        "    img_path.append(file_path)\n",
        "    labels.append(category)"
      ],
      "metadata": {
        "id": "TGqj5VXZeYXC"
      },
      "execution_count": 57,
      "outputs": []
    },
    {
      "cell_type": "code",
      "source": [
        "print(labels[:32])"
      ],
      "metadata": {
        "colab": {
          "base_uri": "https://localhost:8080/"
        },
        "id": "S7OxI9JwhuKu",
        "outputId": "7cfadec1-0d21-47a7-cf20-cd05e74e0a52"
      },
      "execution_count": 58,
      "outputs": [
        {
          "output_type": "stream",
          "name": "stdout",
          "text": [
            "['Frog', 'Frog', 'Frog', 'Frog', 'Frog', 'Frog', 'Frog', 'Frog', 'Frog', 'Frog', 'Frog', 'Frog', 'Frog', 'Frog', 'Frog', 'Frog', 'Frog', 'Frog', 'Frog', 'Frog', 'Frog', 'Frog', 'Frog', 'Frog', 'Frog', 'Frog', 'Frog', 'Frog', 'Frog', 'Frog', 'Goat', 'Goat']\n"
          ]
        }
      ]
    },
    {
      "cell_type": "markdown",
      "source": [
        "#Image processing and Scaling"
      ],
      "metadata": {
        "id": "lIA09f-_4x9f"
      }
    },
    {
      "cell_type": "code",
      "source": [
        "from tensorflow.keras.preprocessing.image import load_img,img_to_array\n",
        "\n",
        "\n",
        "def preprocess_img(img_path):\n",
        "  img=load_img(img_path,target_size=(150,150))\n",
        "  img_array=img_to_array(img)\n",
        "  img_array=img_array/255.0\n",
        "  return img_array"
      ],
      "metadata": {
        "id": "hZ0evF1Cnbm4"
      },
      "execution_count": 59,
      "outputs": []
    },
    {
      "cell_type": "markdown",
      "source": [
        "#Making Categories"
      ],
      "metadata": {
        "id": "_pgQ9Y0738Vn"
      }
    },
    {
      "cell_type": "code",
      "source": [
        "categories=os.listdir('/content/drive/MyDrive/Animal & Bird Dataset/Animal & Bird Dataset')\n",
        "categories"
      ],
      "metadata": {
        "colab": {
          "base_uri": "https://localhost:8080/"
        },
        "id": "Y6uZqO1moiJo",
        "outputId": "4d43d07f-def9-459c-dc14-40350dd0a96b"
      },
      "execution_count": 60,
      "outputs": [
        {
          "output_type": "execute_result",
          "data": {
            "text/plain": [
              "['Frog',\n",
              " 'Goat',\n",
              " 'Bird',\n",
              " 'Duck',\n",
              " 'Dog',\n",
              " 'Tiger',\n",
              " 'Cat',\n",
              " 'Horse',\n",
              " 'Lion',\n",
              " 'Deer']"
            ]
          },
          "metadata": {},
          "execution_count": 60
        }
      ]
    },
    {
      "cell_type": "markdown",
      "source": [
        "#Label Indexing"
      ],
      "metadata": {
        "id": "N-lzQvwl34M2"
      }
    },
    {
      "cell_type": "code",
      "source": [
        "label_map={}\n",
        "for index,category in enumerate(categories):\n",
        "  label_map[category]=index\n",
        "\n",
        "label_map"
      ],
      "metadata": {
        "colab": {
          "base_uri": "https://localhost:8080/"
        },
        "id": "K7MMdwyNqzro",
        "outputId": "e27dc14b-4fc8-4a62-c68a-fa1aac8668f0"
      },
      "execution_count": 61,
      "outputs": [
        {
          "output_type": "execute_result",
          "data": {
            "text/plain": [
              "{'Frog': 0,\n",
              " 'Goat': 1,\n",
              " 'Bird': 2,\n",
              " 'Duck': 3,\n",
              " 'Dog': 4,\n",
              " 'Tiger': 5,\n",
              " 'Cat': 6,\n",
              " 'Horse': 7,\n",
              " 'Lion': 8,\n",
              " 'Deer': 9}"
            ]
          },
          "metadata": {},
          "execution_count": 61
        }
      ]
    },
    {
      "cell_type": "code",
      "source": [
        "label_map['Frog']"
      ],
      "metadata": {
        "colab": {
          "base_uri": "https://localhost:8080/"
        },
        "id": "UN07WK1A2dMQ",
        "outputId": "e02ba8a1-df4d-4808-9bc1-c8f2a0df3247"
      },
      "execution_count": 62,
      "outputs": [
        {
          "output_type": "execute_result",
          "data": {
            "text/plain": [
              "0"
            ]
          },
          "metadata": {},
          "execution_count": 62
        }
      ]
    },
    {
      "cell_type": "markdown",
      "source": [
        "#Train test Split"
      ],
      "metadata": {
        "id": "NVAjuSFl30IS"
      }
    },
    {
      "cell_type": "code",
      "source": [
        "from sklearn.model_selection import train_test_split\n",
        "x_train,x_test,y_train,y_test=train_test_split(img_path,labels,test_size=0.2,random_state=42)"
      ],
      "metadata": {
        "id": "u16_YhSBz8EX"
      },
      "execution_count": 89,
      "outputs": []
    },
    {
      "cell_type": "code",
      "source": [
        "y_train[:5]"
      ],
      "metadata": {
        "colab": {
          "base_uri": "https://localhost:8080/"
        },
        "id": "h-usCQ623K6a",
        "outputId": "2b640d26-573d-4df4-a2d7-708c5d358779"
      },
      "execution_count": 64,
      "outputs": [
        {
          "output_type": "execute_result",
          "data": {
            "text/plain": [
              "['Horse', 'Goat', 'Frog', 'Cat', 'Tiger']"
            ]
          },
          "metadata": {},
          "execution_count": 64
        }
      ]
    },
    {
      "cell_type": "code",
      "source": [
        "y_train1=[]\n",
        "for label in y_train:\n",
        "  y_train1.append(label_map[label])"
      ],
      "metadata": {
        "id": "Tfdqb_ID0mmo"
      },
      "execution_count": 65,
      "outputs": []
    },
    {
      "cell_type": "code",
      "source": [
        "y_train1[:5]"
      ],
      "metadata": {
        "colab": {
          "base_uri": "https://localhost:8080/"
        },
        "id": "zz2HdkPG25Mi",
        "outputId": "25a07bb0-0a5c-485e-f2d1-883dc55e87cf"
      },
      "execution_count": 66,
      "outputs": [
        {
          "output_type": "execute_result",
          "data": {
            "text/plain": [
              "[7, 1, 0, 6, 5]"
            ]
          },
          "metadata": {},
          "execution_count": 66
        }
      ]
    },
    {
      "cell_type": "code",
      "source": [
        "import numpy as np\n",
        "x_train1=[]\n",
        "\n",
        "for img in x_train:\n",
        "  x_train1.append(preprocess_img(img))\n",
        "\n",
        "x_train1=np.array(x_train1)\n",
        "x_train1[:2]"
      ],
      "metadata": {
        "colab": {
          "base_uri": "https://localhost:8080/"
        },
        "id": "ylJqiu8I6yAM",
        "outputId": "7eb3f99f-f2fd-4f43-bf51-e982cd0cea71"
      },
      "execution_count": 67,
      "outputs": [
        {
          "output_type": "execute_result",
          "data": {
            "text/plain": [
              "array([[[[0.87058824, 0.85882354, 0.8862745 ],\n",
              "         [0.8745098 , 0.8627451 , 0.8901961 ],\n",
              "         [0.8784314 , 0.8666667 , 0.89411765],\n",
              "         ...,\n",
              "         [0.36078432, 0.4       , 0.3019608 ],\n",
              "         [0.3254902 , 0.36862746, 0.3019608 ],\n",
              "         [0.25490198, 0.3019608 , 0.25490198]],\n",
              "\n",
              "        [[0.8745098 , 0.8627451 , 0.8901961 ],\n",
              "         [0.8745098 , 0.8627451 , 0.8901961 ],\n",
              "         [0.8784314 , 0.8666667 , 0.89411765],\n",
              "         ...,\n",
              "         [0.29803923, 0.3372549 , 0.23921569],\n",
              "         [0.32941177, 0.37254903, 0.30588236],\n",
              "         [0.2509804 , 0.29803923, 0.2509804 ]],\n",
              "\n",
              "        [[0.8745098 , 0.8627451 , 0.8901961 ],\n",
              "         [0.8784314 , 0.8666667 , 0.89411765],\n",
              "         [0.88235295, 0.87058824, 0.8980392 ],\n",
              "         ...,\n",
              "         [0.30588236, 0.3372549 , 0.24313726],\n",
              "         [0.21176471, 0.25490198, 0.1882353 ],\n",
              "         [0.21176471, 0.25882354, 0.20392157]],\n",
              "\n",
              "        ...,\n",
              "\n",
              "        [[0.8039216 , 0.7137255 , 0.30588236],\n",
              "         [0.8235294 , 0.7254902 , 0.32156864],\n",
              "         [0.8117647 , 0.7137255 , 0.31764707],\n",
              "         ...,\n",
              "         [0.8235294 , 0.7254902 , 0.33333334],\n",
              "         [0.7607843 , 0.6862745 , 0.28627452],\n",
              "         [0.7607843 , 0.70980394, 0.3019608 ]],\n",
              "\n",
              "        [[0.76862746, 0.67058825, 0.27450982],\n",
              "         [0.7764706 , 0.6784314 , 0.28235295],\n",
              "         [0.69803923, 0.6       , 0.20784314],\n",
              "         ...,\n",
              "         [0.87058824, 0.77254903, 0.3764706 ],\n",
              "         [0.7921569 , 0.7058824 , 0.31764707],\n",
              "         [0.74509805, 0.6745098 , 0.2901961 ]],\n",
              "\n",
              "        [[0.8235294 , 0.73333335, 0.33333334],\n",
              "         [0.68235296, 0.5882353 , 0.19607843],\n",
              "         [0.7294118 , 0.63529414, 0.24313726],\n",
              "         ...,\n",
              "         [0.78039217, 0.67058825, 0.2784314 ],\n",
              "         [0.8509804 , 0.75686276, 0.37254903],\n",
              "         [0.7294118 , 0.6509804 , 0.2784314 ]]],\n",
              "\n",
              "\n",
              "       [[[0.61960787, 0.8235294 , 0.19607843],\n",
              "         [0.63529414, 0.8392157 , 0.17254902],\n",
              "         [0.6313726 , 0.8235294 , 0.11764706],\n",
              "         ...,\n",
              "         [0.5686275 , 0.7764706 , 0.        ],\n",
              "         [0.5019608 , 0.7411765 , 0.        ],\n",
              "         [0.41960785, 0.6901961 , 0.        ]],\n",
              "\n",
              "        [[0.627451  , 0.83137256, 0.19607843],\n",
              "         [0.63529414, 0.8392157 , 0.17254902],\n",
              "         [0.627451  , 0.81960785, 0.11372549],\n",
              "         ...,\n",
              "         [0.5529412 , 0.7607843 , 0.        ],\n",
              "         [0.47843137, 0.7176471 , 0.        ],\n",
              "         [0.4       , 0.6666667 , 0.        ]],\n",
              "\n",
              "        [[0.6313726 , 0.8352941 , 0.19607843],\n",
              "         [0.63529414, 0.8392157 , 0.16078432],\n",
              "         [0.61960787, 0.8156863 , 0.09019608],\n",
              "         ...,\n",
              "         [0.5686275 , 0.7764706 , 0.        ],\n",
              "         [0.49411765, 0.7294118 , 0.        ],\n",
              "         [0.4117647 , 0.6666667 , 0.        ]],\n",
              "\n",
              "        ...,\n",
              "\n",
              "        [[0.5254902 , 0.59607846, 0.20784314],\n",
              "         [0.58431375, 0.68235296, 0.28235295],\n",
              "         [0.52156866, 0.6509804 , 0.24313726],\n",
              "         ...,\n",
              "         [0.44313726, 0.3764706 , 0.34901962],\n",
              "         [0.41960785, 0.36862746, 0.34509805],\n",
              "         [0.40392157, 0.4       , 0.32941177]],\n",
              "\n",
              "        [[0.3647059 , 0.47843137, 0.1254902 ],\n",
              "         [0.42352942, 0.5568628 , 0.1764706 ],\n",
              "         [0.30588236, 0.46666667, 0.05098039],\n",
              "         ...,\n",
              "         [0.45490196, 0.3882353 , 0.35686275],\n",
              "         [0.40784314, 0.35686275, 0.33333334],\n",
              "         [0.3647059 , 0.36078432, 0.28235295]],\n",
              "\n",
              "        [[0.3882353 , 0.5411765 , 0.22352941],\n",
              "         [0.3372549 , 0.5058824 , 0.14509805],\n",
              "         [0.1764706 , 0.36862746, 0.        ],\n",
              "         ...,\n",
              "         [0.49019608, 0.41960785, 0.38039216],\n",
              "         [0.41568628, 0.3647059 , 0.33333334],\n",
              "         [0.32941177, 0.31764707, 0.24313726]]]], dtype=float32)"
            ]
          },
          "metadata": {},
          "execution_count": 67
        }
      ]
    },
    {
      "cell_type": "code",
      "source": [
        "x_test1=[]\n",
        "for img in x_test:\n",
        "  x_test1.append(preprocess_img(img))\n",
        "\n",
        "x_test1=np.array(x_test1)"
      ],
      "metadata": {
        "id": "SEHeYhmN8qD3"
      },
      "execution_count": 90,
      "outputs": []
    },
    {
      "cell_type": "markdown",
      "source": [
        "#CNN Model Creation"
      ],
      "metadata": {
        "id": "AIe33ZNH8_Kb"
      }
    },
    {
      "cell_type": "code",
      "source": [
        "import tensorflow as tf\n",
        "from tensorflow import keras\n",
        "from tensorflow.keras.models import Sequential\n",
        "from tensorflow.keras.layers import Conv2D,MaxPooling2D,Flatten,Dense,Dropout\n",
        "\n",
        "model=keras.Sequential([\n",
        "    Conv2D(32,(3,3),activation='relu',input_shape=(150,150,3)),\n",
        "    MaxPooling2D((2,2)),\n",
        "\n",
        "    Conv2D(64,(3,3),activation='relu'),\n",
        "    MaxPooling2D((2,2)),\n",
        "\n",
        "    Conv2D(128,(3,3),activation='relu'),\n",
        "    MaxPooling2D((2,2)),\n",
        "\n",
        "    Flatten(),\n",
        "    Dense(128,activation='relu'),\n",
        "    Dense(len(categories),activation='softmax')\n",
        "])"
      ],
      "metadata": {
        "id": "ZqV-SGGB-KZO"
      },
      "execution_count": 110,
      "outputs": []
    },
    {
      "cell_type": "code",
      "source": [
        "model.compile(optimizer='adam',loss='sparse_categorical_crossentropy',metrics=['accuracy'])"
      ],
      "metadata": {
        "id": "5sWu5_Io_JYZ"
      },
      "execution_count": 111,
      "outputs": []
    },
    {
      "cell_type": "code",
      "source": [
        "model.fit(x_train1,np.array(y_train1),epochs=10)"
      ],
      "metadata": {
        "colab": {
          "base_uri": "https://localhost:8080/"
        },
        "id": "U9gwQwYm_b_m",
        "outputId": "8d605190-5d51-4977-d066-d8fe45087320"
      },
      "execution_count": 112,
      "outputs": [
        {
          "output_type": "stream",
          "name": "stdout",
          "text": [
            "Epoch 1/10\n",
            "\u001b[1m8/8\u001b[0m \u001b[32m━━━━━━━━━━━━━━━━━━━━\u001b[0m\u001b[37m\u001b[0m \u001b[1m14s\u001b[0m 1s/step - accuracy: 0.0763 - loss: 2.5802\n",
            "Epoch 2/10\n",
            "\u001b[1m8/8\u001b[0m \u001b[32m━━━━━━━━━━━━━━━━━━━━\u001b[0m\u001b[37m\u001b[0m \u001b[1m21s\u001b[0m 2s/step - accuracy: 0.0952 - loss: 2.3008\n",
            "Epoch 3/10\n",
            "\u001b[1m8/8\u001b[0m \u001b[32m━━━━━━━━━━━━━━━━━━━━\u001b[0m\u001b[37m\u001b[0m \u001b[1m13s\u001b[0m 2s/step - accuracy: 0.1375 - loss: 2.2588\n",
            "Epoch 4/10\n",
            "\u001b[1m8/8\u001b[0m \u001b[32m━━━━━━━━━━━━━━━━━━━━\u001b[0m\u001b[37m\u001b[0m \u001b[1m10s\u001b[0m 1s/step - accuracy: 0.2415 - loss: 2.1508\n",
            "Epoch 5/10\n",
            "\u001b[1m8/8\u001b[0m \u001b[32m━━━━━━━━━━━━━━━━━━━━\u001b[0m\u001b[37m\u001b[0m \u001b[1m13s\u001b[0m 2s/step - accuracy: 0.2776 - loss: 2.0402\n",
            "Epoch 6/10\n",
            "\u001b[1m8/8\u001b[0m \u001b[32m━━━━━━━━━━━━━━━━━━━━\u001b[0m\u001b[37m\u001b[0m \u001b[1m18s\u001b[0m 1s/step - accuracy: 0.5029 - loss: 1.7222\n",
            "Epoch 7/10\n",
            "\u001b[1m8/8\u001b[0m \u001b[32m━━━━━━━━━━━━━━━━━━━━\u001b[0m\u001b[37m\u001b[0m \u001b[1m23s\u001b[0m 2s/step - accuracy: 0.5405 - loss: 1.5167\n",
            "Epoch 8/10\n",
            "\u001b[1m8/8\u001b[0m \u001b[32m━━━━━━━━━━━━━━━━━━━━\u001b[0m\u001b[37m\u001b[0m \u001b[1m20s\u001b[0m 1s/step - accuracy: 0.6148 - loss: 1.2680\n",
            "Epoch 9/10\n",
            "\u001b[1m8/8\u001b[0m \u001b[32m━━━━━━━━━━━━━━━━━━━━\u001b[0m\u001b[37m\u001b[0m \u001b[1m13s\u001b[0m 2s/step - accuracy: 0.6921 - loss: 0.9246\n",
            "Epoch 10/10\n",
            "\u001b[1m8/8\u001b[0m \u001b[32m━━━━━━━━━━━━━━━━━━━━\u001b[0m\u001b[37m\u001b[0m \u001b[1m19s\u001b[0m 1s/step - accuracy: 0.7268 - loss: 0.8394\n"
          ]
        },
        {
          "output_type": "execute_result",
          "data": {
            "text/plain": [
              "<keras.src.callbacks.history.History at 0x7f8cb2f77190>"
            ]
          },
          "metadata": {},
          "execution_count": 112
        }
      ]
    },
    {
      "cell_type": "code",
      "source": [
        "x_test1.shape"
      ],
      "metadata": {
        "colab": {
          "base_uri": "https://localhost:8080/"
        },
        "id": "02KXwO5UBDNW",
        "outputId": "97050164-72c8-4a1a-aea6-b6d44f975c7c"
      },
      "execution_count": 97,
      "outputs": [
        {
          "output_type": "execute_result",
          "data": {
            "text/plain": [
              "(60, 150, 150, 3)"
            ]
          },
          "metadata": {},
          "execution_count": 97
        }
      ]
    },
    {
      "cell_type": "code",
      "source": [
        "len(y_test)"
      ],
      "metadata": {
        "colab": {
          "base_uri": "https://localhost:8080/"
        },
        "id": "nEELG5RXBGcG",
        "outputId": "d9c877a3-732e-4424-9710-58e301678995"
      },
      "execution_count": 98,
      "outputs": [
        {
          "output_type": "execute_result",
          "data": {
            "text/plain": [
              "60"
            ]
          },
          "metadata": {},
          "execution_count": 98
        }
      ]
    },
    {
      "cell_type": "code",
      "source": [
        "y_test1 = []\n",
        "for label in y_test:\n",
        "  y_test1.append(label_map[label])\n",
        "y_test1 = np.array(y_test1)"
      ],
      "metadata": {
        "id": "yhuT17YQBUYo"
      },
      "execution_count": 84,
      "outputs": []
    },
    {
      "cell_type": "code",
      "source": [
        "model.evaluate(x_test1,np.array(y_test1))"
      ],
      "metadata": {
        "colab": {
          "base_uri": "https://localhost:8080/"
        },
        "id": "GFlPcgTuAjSl",
        "outputId": "9d143d69-d4a9-45f5-8846-1a0a454ad4fc"
      },
      "execution_count": 113,
      "outputs": [
        {
          "output_type": "stream",
          "name": "stdout",
          "text": [
            "\u001b[1m2/2\u001b[0m \u001b[32m━━━━━━━━━━━━━━━━━━━━\u001b[0m\u001b[37m\u001b[0m \u001b[1m1s\u001b[0m 363ms/step - accuracy: 0.2917 - loss: 2.8836\n"
          ]
        },
        {
          "output_type": "execute_result",
          "data": {
            "text/plain": [
              "[3.0444998741149902, 0.25]"
            ]
          },
          "metadata": {},
          "execution_count": 113
        }
      ]
    },
    {
      "cell_type": "markdown",
      "source": [
        "#Model Predict"
      ],
      "metadata": {
        "id": "S1AAOYw9GbOO"
      }
    },
    {
      "cell_type": "code",
      "source": [
        "img_path='/content/drive/MyDrive/Animal & Bird Dataset/Animal & Bird Dataset/Cat/1.jpg'\n",
        "img=load_img(img_path,target_size=(150,150))\n",
        "img_array=img_to_array(img)\n",
        "img_array=img_array/255.0\n",
        "img_array=np.expand_dims(img_array,axis=0)\n",
        "\n",
        "y_pred=model.predict(img_array)\n",
        "y_pred"
      ],
      "metadata": {
        "colab": {
          "base_uri": "https://localhost:8080/"
        },
        "id": "xfzjDmmaHVJd",
        "outputId": "da5cedbb-0644-4c52-8829-f0cc1a23efbe"
      },
      "execution_count": 122,
      "outputs": [
        {
          "output_type": "stream",
          "name": "stdout",
          "text": [
            "\u001b[1m1/1\u001b[0m \u001b[32m━━━━━━━━━━━━━━━━━━━━\u001b[0m\u001b[37m\u001b[0m \u001b[1m0s\u001b[0m 51ms/step\n"
          ]
        },
        {
          "output_type": "execute_result",
          "data": {
            "text/plain": [
              "array([[8.9738343e-04, 4.3566383e-02, 1.0698218e-03, 1.2542219e-01,\n",
              "        9.2944526e-04, 8.1340963e-01, 6.2896139e-03, 7.3052873e-04,\n",
              "        1.0338329e-03, 6.6511054e-03]], dtype=float32)"
            ]
          },
          "metadata": {},
          "execution_count": 122
        }
      ]
    }
  ]
}